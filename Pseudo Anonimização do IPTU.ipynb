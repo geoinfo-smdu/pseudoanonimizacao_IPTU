{
 "cells": [
  {
   "cell_type": "markdown",
   "id": "4540bba7",
   "metadata": {},
   "source": [
    "# Pseudo Anonimização dos dados de Contribuinte do IPTU"
   ]
  },
  {
   "cell_type": "code",
   "execution_count": 1,
   "id": "44fbe205",
   "metadata": {},
   "outputs": [],
   "source": [
    "import hashlib"
   ]
  },
  {
   "cell_type": "code",
   "execution_count": 2,
   "id": "5f9fd63d",
   "metadata": {},
   "outputs": [],
   "source": [
    "hash_anonimizada = hashlib.md5('DADO PARA SER ANONIMIZADO'.encode('iso-8859-9')).hexdigest()"
   ]
  },
  {
   "cell_type": "code",
   "execution_count": 3,
   "id": "c2d5a165",
   "metadata": {},
   "outputs": [
    {
     "name": "stdout",
     "output_type": "stream",
     "text": [
      "512141181c5031e9bcfcf7266c42a4b5\n"
     ]
    }
   ],
   "source": [
    "print(hash_anonimizada)"
   ]
  },
  {
   "cell_type": "code",
   "execution_count": 4,
   "id": "68068ef1",
   "metadata": {},
   "outputs": [],
   "source": [
    "hash_procurada = hashlib.md5('DADO ANONIMO PARA SER PROCURADO'.encode('iso-8859-9')).hexdigest()"
   ]
  },
  {
   "cell_type": "code",
   "execution_count": 5,
   "id": "b2d53089",
   "metadata": {},
   "outputs": [
    {
     "name": "stdout",
     "output_type": "stream",
     "text": [
      "Os dados não conferem\n"
     ]
    }
   ],
   "source": [
    "if hash_anonimizada == hash_procurada:\n",
    "    print('Dados são iguais')\n",
    "else:\n",
    "    print('Os dados não conferem')"
   ]
  },
  {
   "cell_type": "markdown",
   "id": "2d16e2a9",
   "metadata": {},
   "source": [
    "## Carregando as bibliotecas"
   ]
  },
  {
   "cell_type": "code",
   "execution_count": 6,
   "id": "f6cd17a3",
   "metadata": {},
   "outputs": [],
   "source": [
    "import pandas as pd"
   ]
  },
  {
   "cell_type": "markdown",
   "id": "7c701a9d",
   "metadata": {},
   "source": [
    "## Abrindo a base de IPTU"
   ]
  },
  {
   "cell_type": "code",
   "execution_count": 7,
   "id": "03f33008",
   "metadata": {},
   "outputs": [],
   "source": [
    "exercicio = '2020'"
   ]
  },
  {
   "cell_type": "code",
   "execution_count": 8,
   "id": "771fabea",
   "metadata": {},
   "outputs": [],
   "source": [
    "df_iptu = pd.read_csv(f'downloads/IPTU_{exercicio}.zip',\\\n",
    "          compression='zip',\\\n",
    "          encoding='iso-8859-9',\\\n",
    "          sep=';',\\\n",
    "          decimal=',',\\\n",
    "          error_bad_lines=False)"
   ]
  },
  {
   "cell_type": "markdown",
   "id": "88fd1754",
   "metadata": {},
   "source": [
    "## Redefenindo colunas"
   ]
  },
  {
   "cell_type": "code",
   "execution_count": 9,
   "id": "efa97ca0",
   "metadata": {},
   "outputs": [],
   "source": [
    "colunas = list(df_iptu.columns)"
   ]
  },
  {
   "cell_type": "code",
   "execution_count": 10,
   "id": "2a4541bc",
   "metadata": {},
   "outputs": [],
   "source": [
    "colunas.remove('CPF/CNPJ DO CONTRIBUINTE 1')"
   ]
  },
  {
   "cell_type": "code",
   "execution_count": 11,
   "id": "bc5d5e22",
   "metadata": {},
   "outputs": [],
   "source": [
    "colunas.remove('NOME DO CONTRIBUINTE 1')"
   ]
  },
  {
   "cell_type": "code",
   "execution_count": 12,
   "id": "f048f87b",
   "metadata": {},
   "outputs": [],
   "source": [
    "colunas.remove('CPF/CNPJ DO CONTRIBUINTE 2')"
   ]
  },
  {
   "cell_type": "code",
   "execution_count": 13,
   "id": "cf39ebe3",
   "metadata": {},
   "outputs": [],
   "source": [
    "colunas.remove('NOME DO CONTRIBUINTE 2')"
   ]
  },
  {
   "cell_type": "code",
   "execution_count": 14,
   "id": "21e30c36",
   "metadata": {},
   "outputs": [],
   "source": [
    "colunas.insert(5,'HASH CONTRIBUINTE 1')"
   ]
  },
  {
   "cell_type": "code",
   "execution_count": 15,
   "id": "0cc8fd7a",
   "metadata": {},
   "outputs": [],
   "source": [
    "colunas.insert(7,'HASH CONTRIBUINTE 2')"
   ]
  },
  {
   "cell_type": "code",
   "execution_count": 16,
   "id": "eedc6707",
   "metadata": {},
   "outputs": [
    {
     "data": {
      "text/plain": [
       "['NUMERO DO CONTRIBUINTE',\n",
       " 'ANO DO EXERCICIO',\n",
       " 'NUMERO DA NL',\n",
       " 'DATA DO CADASTRAMENTO',\n",
       " 'TIPO DE CONTRIBUINTE 1',\n",
       " 'HASH CONTRIBUINTE 1',\n",
       " 'TIPO DE CONTRIBUINTE 2',\n",
       " 'HASH CONTRIBUINTE 2',\n",
       " 'NUMERO DO CONDOMINIO',\n",
       " 'CODLOG DO IMOVEL',\n",
       " 'NOME DE LOGRADOURO DO IMOVEL',\n",
       " 'NUMERO DO IMOVEL',\n",
       " 'COMPLEMENTO DO IMOVEL',\n",
       " 'BAIRRO DO IMOVEL',\n",
       " 'REFERENCIA DO IMOVEL',\n",
       " 'CEP DO IMOVEL',\n",
       " 'QUANTIDADE DE ESQUINAS/FRENTES',\n",
       " 'FRACAO IDEAL',\n",
       " 'AREA DO TERRENO',\n",
       " 'AREA CONSTRUIDA',\n",
       " 'AREA OCUPADA',\n",
       " 'VALOR DO M2 DO TERRENO',\n",
       " 'VALOR DO M2 DE CONSTRUCAO',\n",
       " 'ANO DA CONSTRUCAO CORRIGIDO',\n",
       " 'QUANTIDADE DE PAVIMENTOS',\n",
       " 'TESTADA PARA CALCULO',\n",
       " 'TIPO DE USO DO IMOVEL',\n",
       " 'TIPO DE PADRAO DA CONSTRUCAO',\n",
       " 'TIPO DE TERRENO',\n",
       " 'FATOR DE OBSOLESCENCIA',\n",
       " 'ANO DE INICIO DA VIDA DO CONTRIBUINTE',\n",
       " 'MES DE INICIO DA VIDA DO CONTRIBUINTE',\n",
       " 'FASE DO CONTRIBUINTE']"
      ]
     },
     "execution_count": 16,
     "metadata": {},
     "output_type": "execute_result"
    }
   ],
   "source": [
    "colunas"
   ]
  },
  {
   "cell_type": "markdown",
   "id": "010d162f",
   "metadata": {},
   "source": [
    "## Pseudo Anonimizando\n",
    "\n",
    "É gerado uma [hash MD5 de 128 bits](https://pt.wikipedia.org/wiki/MD5) para cada coluna de CPF/CNPJ concatenada com o nome"
   ]
  },
  {
   "cell_type": "code",
   "execution_count": 17,
   "id": "dd71e867",
   "metadata": {},
   "outputs": [],
   "source": [
    "c1 = df_iptu.loc[df_iptu['NOME DO CONTRIBUINTE 1'].notna()]"
   ]
  },
  {
   "cell_type": "code",
   "execution_count": 18,
   "id": "1799f2a8",
   "metadata": {},
   "outputs": [],
   "source": [
    "df_iptu['HASH CONTRIBUINTE 1'] = \\\n",
    "(c1['CPF/CNPJ DO CONTRIBUINTE 1'] + c1['NOME DO CONTRIBUINTE 1']).apply(\n",
    "    lambda x: hashlib.md5(x.encode('iso-8859-9')).hexdigest()\n",
    ")"
   ]
  },
  {
   "cell_type": "code",
   "execution_count": 19,
   "id": "211eb846",
   "metadata": {},
   "outputs": [],
   "source": [
    "c2 = df_iptu.loc[df_iptu['NOME DO CONTRIBUINTE 2'].notna()]"
   ]
  },
  {
   "cell_type": "code",
   "execution_count": 20,
   "id": "ae1eb8de",
   "metadata": {},
   "outputs": [],
   "source": [
    "df_iptu['HASH CONTRIBUINTE 2'] = \\\n",
    "(c2['CPF/CNPJ DO CONTRIBUINTE 2'] + c2['NOME DO CONTRIBUINTE 2']).apply(\n",
    "    lambda x: hashlib.md5(x.encode('iso-8859-9')).hexdigest()\n",
    ")"
   ]
  },
  {
   "cell_type": "markdown",
   "id": "df94a572",
   "metadata": {},
   "source": [
    "## Salvando os dados processados Pseudo Anonimizados"
   ]
  },
  {
   "cell_type": "code",
   "execution_count": 21,
   "id": "a7fc2b42",
   "metadata": {
    "scrolled": true
   },
   "outputs": [],
   "source": [
    "df_iptu[colunas].to_csv(f'resultados/IPTU_{exercicio}_pseudoanonimizado.csv')"
   ]
  },
  {
   "cell_type": "code",
   "execution_count": null,
   "id": "c472651b",
   "metadata": {},
   "outputs": [],
   "source": []
  }
 ],
 "metadata": {
  "kernelspec": {
   "display_name": "Python 3",
   "language": "python",
   "name": "python3"
  },
  "language_info": {
   "codemirror_mode": {
    "name": "ipython",
    "version": 3
   },
   "file_extension": ".py",
   "mimetype": "text/x-python",
   "name": "python",
   "nbconvert_exporter": "python",
   "pygments_lexer": "ipython3",
   "version": "3.8.2"
  }
 },
 "nbformat": 4,
 "nbformat_minor": 5
}
